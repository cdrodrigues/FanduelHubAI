{
 "cells": [
  {
   "cell_type": "code",
   "execution_count": 1,
   "id": "d97c8fc8-9dde-45d2-8ae6-3e3f6532d169",
   "metadata": {},
   "outputs": [
    {
     "name": "stderr",
     "output_type": "stream",
     "text": [
      "/Users/claudio.rodrigues/Documents/Projects/FanduelHubAI/.venv/lib/python3.9/site-packages/tqdm/auto.py:21: TqdmWarning: IProgress not found. Please update jupyter and ipywidgets. See https://ipywidgets.readthedocs.io/en/stable/user_install.html\n",
      "  from .autonotebook import tqdm as notebook_tqdm\n"
     ]
    }
   ],
   "source": [
    "from transformers import AutoModelForCausalLM, AutoTokenizer"
   ]
  },
  {
   "cell_type": "markdown",
   "id": "6c766c3f-b7d6-401d-84cd-89c242541072",
   "metadata": {},
   "source": [
    "## Carregar o modelo e tokenizer"
   ]
  },
  {
   "cell_type": "code",
   "execution_count": 2,
   "id": "82d3543f-4b0c-4ac3-bf9a-67a84f7a1c1c",
   "metadata": {},
   "outputs": [
    {
     "name": "stderr",
     "output_type": "stream",
     "text": [
      "Loading checkpoint shards: 100%|██████████| 2/2 [00:07<00:00,  3.86s/it]\n"
     ]
    }
   ],
   "source": [
    "MODEL_ID = \"meta-llama/Llama-3.2-3B-Instruct\"\n",
    "\n",
    "model = AutoModelForCausalLM.from_pretrained(\n",
    "    MODEL_ID\n",
    ")\n",
    "\n",
    "tokenizer = AutoTokenizer.from_pretrained(\n",
    "    MODEL_ID\n",
    ")"
   ]
  },
  {
   "cell_type": "markdown",
   "id": "1d0166dc-0465-4254-9f27-f35378d6d153",
   "metadata": {},
   "source": [
    "## Configuração prompts e chat"
   ]
  },
  {
   "cell_type": "code",
   "execution_count": 3,
   "id": "37ccbd62-ffa6-4b95-b495-5338c908e5eb",
   "metadata": {},
   "outputs": [],
   "source": [
    "SYSTEM_HEAD = \"\"\"You are tasked with answering questions regarding the provided documentation. \n",
    "Answer ONLY with information found in the documentation.\n",
    "Provide short and clear answers. Use Markdown to answer all the questions.\n",
    "\n",
    "Documentation: \n",
    "\n",
    "DOCUMENT_TEXT\"\"\"\n",
    "\n",
    "#Substituir aqui com o texto do documento\n",
    "document_text = \"Our new applications currently utilize the updated DevXP Branching strategy, as detailed in the image below. The strategy involves a 'main' branch for creating and deploying releases to Production Environments, a 'staging' branch for merging new code and generating beta releases deployed to Development environments. Additional branches are derived from 'staging' to allow developers to work on their code and approvers to review it before merging. Squash.drawio (1)-20240517-152318.png To accommodate this new strategy, we have set up our Github projects with automation that handles most of the tasks. The details are outlined below. Pull Requests Checks For a developer to merge code into the staging branch, it must go through a Pull Request that requires 2 approvals, one of which must be from a project maintainer. In addition, we have a set of checks that the new code must pass in order to be merged. These checks include Linting, Unit Tests, Typecheck, Integration Tests and, optionally, Contract Tests. We have a reusable workflow available here for quickly setting up a new project while adhering to the same guidelines. These steps ensure that the code adheres to best practices. To close the Pull Request, we use the Squash and Merge option. When we select the Squash and merge option on a pull request, the pull request's commits are squashed into a single commit. Instead of seeing all of a contributor's individual commits from a topic branch, the commits are combined into one commit and merged into the staging branch. Squashing these commits into one commit while merging to the default branch, we retain the original changes with a clear Git history. Also, please take note that the resulting squash commit should adhere to the Commitlint configuration outlined here. Staging Release Once the code has been merged into the staging branch, the next objective is to prepare a beta version for testing by the QA team. To achieve this, it is essential to switch to the staging branch locally and ensure synchronization. Subsequently, execute the following commands: // To create a new tag, verify the latest tag first to ensure the correct version is being used > git tag v1.11.0-beta.1 // Push the new tag > git push origin tag v1.11.0-beta.1 After completing this task, the subsequent step involves initiating a new action to trigger the workflow for generating and uploading the updated RPM to Artifactory. This workflow will also result in the creation of a new release in the repository, as demonstrated in this example. Following this, proceed by triggering a new Jenkins CI Build as usual to obtain the latest version of the RPM. Finally, continue with the deployment process using the same steps as before these modifications. Staging to Main When all the code is merged and deployed to the Development Environment, and successfully passes all QA tests, we are prepared to merge it into main in order to generate a new final release. To proceed with this process, it is necessary to create a new Pull Request and ensure that all checks and approvals described above are met before merging. Traditionally, we utilized the Rebase and Merge option for merging pull requests. By selecting the Rebase and Merge option on a pull request, all commits from the topic branch (or head branch) are integrated into the base branch individually without creating a merge commit. This rebase and merge behavior results in maintaining a linear project history similar to a fast-forward merge. However, this achievement is realized by rewriting the commit history on the base branch with new commits. However, an issue was identified where after merging the pull request, both staging and main branches were consistently out of sync. This occurred due to GitHub's rebase and merge behavior slightly differing from git rebase. When using rebase and merge on GitHub, committer information is always updated resulting in new commit SHAs; whereas outside of GitHub, git rebase does not alter committer information when rebasing onto an ancestor commit. In order to resolve this issue without resorting to manual rebasing, we developed a new Github Action triggered by adding a comment containing /release-to-main text within a Pull Request. This action utilizes the git rebase command to perform a rebase-and-merge operation of  the staging branch into main, ensuring synchronization between both branches at all times. An example of this action can be found here. By adding the comment /release-to-main to the Pull Request, an action will be triggered to rebase and merge the code into main, subsequently closing the Pull Request. Main Release When code is merged to the main branch, we must follow the same process that we followed for the Staging Release, creating and pushing a new tag with the latest version.\"\n",
    "\n",
    "user_prompt = \"List the steps to create a new tag and push it to the staging branch.\"\n",
    "\n",
    "chat = [\n",
    "    {\"role\": \"system\", \"content\": SYSTEM_HEAD.replace(\"DOCUMENT_TEXT\", document_text)},\n",
    "    {\"role\": \"user\", \"content\": user_prompt}\n",
    "]"
   ]
  },
  {
   "cell_type": "markdown",
   "id": "61641bb1-8409-4770-a6d2-605aa9a0ef91",
   "metadata": {},
   "source": [
    "## Tokenizar o chat"
   ]
  },
  {
   "cell_type": "code",
   "execution_count": 4,
   "id": "59574ef6-9236-475b-8f73-14a88a336ac2",
   "metadata": {},
   "outputs": [],
   "source": [
    "chat_template = tokenizer.apply_chat_template(chat, tokenize=False)\n",
    "\n",
    "inputs = tokenizer(chat_template, return_tensors=\"pt\")"
   ]
  },
  {
   "cell_type": "markdown",
   "id": "92e58027-52bf-45a5-989f-4b6924a71df7",
   "metadata": {},
   "source": [
    "## Gerar a resposta"
   ]
  },
  {
   "cell_type": "code",
   "execution_count": 5,
   "id": "f9db11c8-0166-4721-82f4-9f76dae5037f",
   "metadata": {},
   "outputs": [
    {
     "name": "stderr",
     "output_type": "stream",
     "text": [
      "Setting `pad_token_id` to `eos_token_id`:128001 for open-end generation.\n"
     ]
    }
   ],
   "source": [
    "outputs = model.generate(\n",
    "    **inputs, \n",
    "    max_new_tokens=128\n",
    ")"
   ]
  },
  {
   "cell_type": "markdown",
   "id": "f5882135-74e3-4c46-addf-53a60bbc3454",
   "metadata": {},
   "source": [
    "## Descodificar a resposta"
   ]
  },
  {
   "cell_type": "code",
   "execution_count": 6,
   "id": "7f322da2-32bb-4f42-a99b-4e85b60c19cf",
   "metadata": {},
   "outputs": [],
   "source": [
    "answer = tokenizer.decode(\n",
    "    outputs[0][inputs['input_ids'].shape[1]:], \n",
    "    skip_special_tokens=True\n",
    ")"
   ]
  },
  {
   "cell_type": "code",
   "execution_count": 7,
   "id": "a2284182-4e1d-4306-ac35-eeb5de99af8a",
   "metadata": {},
   "outputs": [
    {
     "data": {
      "text/plain": [
       "'assistant\\n\\n### Create a new tag and push it to the staging branch\\n\\n1. **Verify the latest tag**: `git tag v1.11.0-beta.1`\\n2. **Push the new tag**: `git push origin tag v1.11.0-beta.1`'"
      ]
     },
     "execution_count": 7,
     "metadata": {},
     "output_type": "execute_result"
    }
   ],
   "source": [
    "answer"
   ]
  }
 ],
 "metadata": {
  "kernelspec": {
   "display_name": ".venv",
   "language": "python",
   "name": "python3"
  },
  "language_info": {
   "codemirror_mode": {
    "name": "ipython",
    "version": 3
   },
   "file_extension": ".py",
   "mimetype": "text/x-python",
   "name": "python",
   "nbconvert_exporter": "python",
   "pygments_lexer": "ipython3",
   "version": "3.9.16"
  }
 },
 "nbformat": 4,
 "nbformat_minor": 5
}
